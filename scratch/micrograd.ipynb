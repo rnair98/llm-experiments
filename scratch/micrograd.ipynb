{
 "cells": [
  {
   "cell_type": "code",
   "execution_count": 5,
   "id": "f6c6f539-f444-48bf-b790-fb06817efa83",
   "metadata": {},
   "outputs": [],
   "source": [
    "from __future__ import annotations\n",
    "\n",
    "class Value:\n",
    "    def __init__(self,data: float):\n",
    "        self.data = data\n",
    "    def __repr__(self)-> str:\n",
    "        return f\"Value(data={self.data})\"\n",
    "    def __add__(self,other: Value)-> Value:\n",
    "        return Value(self.data + other.data)\n"
   ]
  },
  {
   "cell_type": "code",
   "execution_count": 6,
   "id": "29eedd8d-0b40-430d-8952-3797aeb728cb",
   "metadata": {},
   "outputs": [
    {
     "data": {
      "text/plain": [
       "Value(data=-1.0)"
      ]
     },
     "execution_count": 6,
     "metadata": {},
     "output_type": "execute_result"
    }
   ],
   "source": [
    "a = Value(2.0)\n",
    "b = Value(-3.0)\n",
    "a + b"
   ]
  },
  {
   "cell_type": "code",
   "execution_count": null,
   "id": "a020d139-9296-44e1-98fb-96bf3eede609",
   "metadata": {},
   "outputs": [],
   "source": []
  }
 ],
 "metadata": {
  "kernelspec": {
   "display_name": "Python 3 (ipykernel)",
   "language": "python",
   "name": "python3"
  },
  "language_info": {
   "codemirror_mode": {
    "name": "ipython",
    "version": 3
   },
   "file_extension": ".py",
   "mimetype": "text/x-python",
   "name": "python",
   "nbconvert_exporter": "python",
   "pygments_lexer": "ipython3",
   "version": "3.12.2"
  }
 },
 "nbformat": 4,
 "nbformat_minor": 5
}
