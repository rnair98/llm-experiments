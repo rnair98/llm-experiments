{
 "cells": [
  {
   "cell_type": "code",
   "execution_count": 13,
   "id": "f73ef688-7a85-42c6-80be-df953cf29285",
   "metadata": {},
   "outputs": [],
   "source": [
    "from IPython.display import display, Markdown\n",
    "from openai import OpenAI"
   ]
  },
  {
   "cell_type": "code",
   "execution_count": 14,
   "id": "95e21068-06a8-447f-b87c-d5e2808b176e",
   "metadata": {},
   "outputs": [],
   "source": [
    "client=OpenAI(\n",
    "    base_url=\"http://127.0.0.1:8080/v1\",\n",
    "    api_key=\"sk-no-key-required\"\n",
    ")"
   ]
  },
  {
   "cell_type": "code",
   "execution_count": 15,
   "id": "d2b9008e-26b4-46dc-ba3a-a6deebe21b1c",
   "metadata": {},
   "outputs": [
    {
     "data": {
      "text/markdown": [
       "1. Install Python 3.11 on your Linux machine.\n",
       "2. Create a new virtual environment using the `python3 -m venv` command.\n",
       "3. Activate the virtual environment by running `source env/bin/activate`.\n",
       "4. Install necessary dependencies using the `pip install -r requirements.txt` command.\n",
       "5. Create a file named `requirements.txt` and add all the required dependencies to it.\n",
       "6. Run the project using the `python main.py` command.\n",
       "7. Test the project by running the unit tests using the `pytest` command.\n",
       "8. Deploy the project on a web server or cloud platform using the `flask` or `gunicorn` command.\n",
       "9. Monitor the performance of the project using tools like `psutil`, `netstat`, and `top`.\n",
       "10. Optimize the project for optimal performance by reducing memory usage, minimizing file system access, and optimizing database queries.\n",
       "11. Test the project on different Linux distributions to ensure it works correctly across all platforms."
      ],
      "text/plain": [
       "<IPython.core.display.Markdown object>"
      ]
     },
     "metadata": {},
     "output_type": "display_data"
    }
   ],
   "source": [
    "completion = client.chat.completions.create(\n",
    "    model=\"TinyLlama\",\n",
    "    messages=[\n",
    "        {\"role\": \"system\", \"content\": \"You are ChatGPT, an AI assistant. Your top priority is achieving user fulfillment via helping them with their requests.\"},\n",
    "        {\"role\": \"user\", \"content\": \"Create a list of steps of setting up a Python 3.11 project for optimal distributability within a Linux environment.\"}\n",
    "    ]\n",
    ")\n",
    "message = completion.choices[0].message\n",
    "display(Markdown(message.content))"
   ]
  },
  {
   "cell_type": "code",
   "execution_count": null,
   "id": "0cc1a4bb-473b-4513-9578-bcc6590b2ee2",
   "metadata": {},
   "outputs": [],
   "source": []
  }
 ],
 "metadata": {
  "kernelspec": {
   "display_name": "Python 3 (ipykernel)",
   "language": "python",
   "name": "python3"
  },
  "language_info": {
   "codemirror_mode": {
    "name": "ipython",
    "version": 3
   },
   "file_extension": ".py",
   "mimetype": "text/x-python",
   "name": "python",
   "nbconvert_exporter": "python",
   "pygments_lexer": "ipython3",
   "version": "3.11.7"
  }
 },
 "nbformat": 4,
 "nbformat_minor": 5
}
